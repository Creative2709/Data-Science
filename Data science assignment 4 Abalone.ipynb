{
 "cells": [
  {
   "cell_type": "markdown",
   "id": "7010606c",
   "metadata": {},
   "source": [
    "# Assignment 3 : Abalone dataset age prediction"
   ]
  },
  {
   "cell_type": "markdown",
   "id": "7ceac81d",
   "metadata": {},
   "source": [
    "## Problem statement"
   ]
  },
  {
   "cell_type": "markdown",
   "id": "d839ae4a",
   "metadata": {},
   "source": [
    "Download Abalone dataset. (URL: http://archive.ics.uci.edu/ml/datasets/Abalone)\n",
    "Data set has total 8 Number of Attributes.\n",
    "Sex nominal M, F, and I (infant)\n",
    " Length continuous mm Longest shell measurement\n",
    " Diameter continuous mm perpendicular to length\n",
    " Height continuous mm with meat in shell\n",
    " Whole weight continuous grams whole abalone\n",
    " Shucked weight continuous grams weight of meat\n",
    " Viscera weight continuous grams gut weight (after bleeding)\n",
    " Shell weight continuous grams after being dried\n",
    " Rings (age/class of abalone)\n",
    "Load the data from data file and split it into training and test datasets. Summarize\n",
    "the properties in the training dataset. The number of rings is the value to predict:\n",
    "either as a continuous value or as a classification problem.\n",
    "Predict the age of abalone from physical measurements using linear regression or\n",
    "predict ring class as classification problem\n"
   ]
  },
  {
   "cell_type": "code",
   "execution_count": null,
   "id": "582f04aa",
   "metadata": {},
   "outputs": [],
   "source": []
  },
  {
   "cell_type": "code",
   "execution_count": 1,
   "id": "6dd3cfa6",
   "metadata": {},
   "outputs": [],
   "source": [
    "import pandas as pd\n",
    "from sklearn.neighbors import KNeighborsClassifier\n",
    "from sklearn.metrics import classification_report\n",
    "from sklearn.model_selection import train_test_split\n",
    "from sklearn import metrics \n"
   ]
  },
  {
   "cell_type": "code",
   "execution_count": 2,
   "id": "4cb9cf6a",
   "metadata": {},
   "outputs": [],
   "source": [
    "df = pd.read_csv(\"abalone.csv\")\n"
   ]
  },
  {
   "cell_type": "code",
   "execution_count": 3,
   "id": "91be8bdc",
   "metadata": {},
   "outputs": [
    {
     "data": {
      "text/plain": [
       "(4177, 9)"
      ]
     },
     "execution_count": 3,
     "metadata": {},
     "output_type": "execute_result"
    }
   ],
   "source": [
    "df.shape"
   ]
  },
  {
   "cell_type": "code",
   "execution_count": 4,
   "id": "91e7d16a",
   "metadata": {},
   "outputs": [
    {
     "data": {
      "text/plain": [
       "Sex               0\n",
       "Length            0\n",
       "Diameter          0\n",
       "Height            0\n",
       "Whole weight      0\n",
       "Shucked weight    0\n",
       "Viscera weight    0\n",
       "Shell weight      0\n",
       "Rings             0\n",
       "dtype: int64"
      ]
     },
     "execution_count": 4,
     "metadata": {},
     "output_type": "execute_result"
    }
   ],
   "source": [
    "df.isna().sum()\n"
   ]
  },
  {
   "cell_type": "code",
   "execution_count": 5,
   "id": "ae1d6f3c",
   "metadata": {},
   "outputs": [
    {
     "data": {
      "text/plain": [
       "<bound method DataFrame.info of      Sex  Length  Diameter  Height  Whole weight  Shucked weight  \\\n",
       "0      M   0.455     0.365   0.095        0.5140          0.2245   \n",
       "1      M   0.350     0.265   0.090        0.2255          0.0995   \n",
       "2      F   0.530     0.420   0.135        0.6770          0.2565   \n",
       "3      M   0.440     0.365   0.125        0.5160          0.2155   \n",
       "4      I   0.330     0.255   0.080        0.2050          0.0895   \n",
       "...   ..     ...       ...     ...           ...             ...   \n",
       "4172   F   0.565     0.450   0.165        0.8870          0.3700   \n",
       "4173   M   0.590     0.440   0.135        0.9660          0.4390   \n",
       "4174   M   0.600     0.475   0.205        1.1760          0.5255   \n",
       "4175   F   0.625     0.485   0.150        1.0945          0.5310   \n",
       "4176   M   0.710     0.555   0.195        1.9485          0.9455   \n",
       "\n",
       "      Viscera weight  Shell weight  Rings  \n",
       "0             0.1010        0.1500     15  \n",
       "1             0.0485        0.0700      7  \n",
       "2             0.1415        0.2100      9  \n",
       "3             0.1140        0.1550     10  \n",
       "4             0.0395        0.0550      7  \n",
       "...              ...           ...    ...  \n",
       "4172          0.2390        0.2490     11  \n",
       "4173          0.2145        0.2605     10  \n",
       "4174          0.2875        0.3080      9  \n",
       "4175          0.2610        0.2960     10  \n",
       "4176          0.3765        0.4950     12  \n",
       "\n",
       "[4177 rows x 9 columns]>"
      ]
     },
     "execution_count": 5,
     "metadata": {},
     "output_type": "execute_result"
    }
   ],
   "source": [
    "df.info"
   ]
  },
  {
   "cell_type": "code",
   "execution_count": 6,
   "id": "fd1c9022",
   "metadata": {},
   "outputs": [
    {
     "data": {
      "text/html": [
       "<div>\n",
       "<style scoped>\n",
       "    .dataframe tbody tr th:only-of-type {\n",
       "        vertical-align: middle;\n",
       "    }\n",
       "\n",
       "    .dataframe tbody tr th {\n",
       "        vertical-align: top;\n",
       "    }\n",
       "\n",
       "    .dataframe thead th {\n",
       "        text-align: right;\n",
       "    }\n",
       "</style>\n",
       "<table border=\"1\" class=\"dataframe\">\n",
       "  <thead>\n",
       "    <tr style=\"text-align: right;\">\n",
       "      <th></th>\n",
       "      <th>Sex</th>\n",
       "      <th>Length</th>\n",
       "      <th>Diameter</th>\n",
       "      <th>Height</th>\n",
       "      <th>Whole weight</th>\n",
       "      <th>Shucked weight</th>\n",
       "      <th>Viscera weight</th>\n",
       "      <th>Shell weight</th>\n",
       "      <th>Rings</th>\n",
       "    </tr>\n",
       "  </thead>\n",
       "  <tbody>\n",
       "    <tr>\n",
       "      <th>638</th>\n",
       "      <td>I</td>\n",
       "      <td>0.440</td>\n",
       "      <td>0.345</td>\n",
       "      <td>0.120</td>\n",
       "      <td>0.4870</td>\n",
       "      <td>0.1965</td>\n",
       "      <td>0.1080</td>\n",
       "      <td>0.1600</td>\n",
       "      <td>14</td>\n",
       "    </tr>\n",
       "    <tr>\n",
       "      <th>3880</th>\n",
       "      <td>I</td>\n",
       "      <td>0.380</td>\n",
       "      <td>0.300</td>\n",
       "      <td>0.100</td>\n",
       "      <td>0.2860</td>\n",
       "      <td>0.1305</td>\n",
       "      <td>0.0560</td>\n",
       "      <td>0.0900</td>\n",
       "      <td>7</td>\n",
       "    </tr>\n",
       "    <tr>\n",
       "      <th>309</th>\n",
       "      <td>M</td>\n",
       "      <td>0.570</td>\n",
       "      <td>0.435</td>\n",
       "      <td>0.145</td>\n",
       "      <td>0.9055</td>\n",
       "      <td>0.3925</td>\n",
       "      <td>0.2355</td>\n",
       "      <td>0.2750</td>\n",
       "      <td>10</td>\n",
       "    </tr>\n",
       "    <tr>\n",
       "      <th>2510</th>\n",
       "      <td>I</td>\n",
       "      <td>0.420</td>\n",
       "      <td>0.320</td>\n",
       "      <td>0.100</td>\n",
       "      <td>0.3400</td>\n",
       "      <td>0.1745</td>\n",
       "      <td>0.0500</td>\n",
       "      <td>0.0945</td>\n",
       "      <td>8</td>\n",
       "    </tr>\n",
       "    <tr>\n",
       "      <th>1878</th>\n",
       "      <td>I</td>\n",
       "      <td>0.545</td>\n",
       "      <td>0.425</td>\n",
       "      <td>0.140</td>\n",
       "      <td>0.8145</td>\n",
       "      <td>0.3050</td>\n",
       "      <td>0.2310</td>\n",
       "      <td>0.2440</td>\n",
       "      <td>10</td>\n",
       "    </tr>\n",
       "  </tbody>\n",
       "</table>\n",
       "</div>"
      ],
      "text/plain": [
       "     Sex  Length  Diameter  Height  Whole weight  Shucked weight  \\\n",
       "638    I   0.440     0.345   0.120        0.4870          0.1965   \n",
       "3880   I   0.380     0.300   0.100        0.2860          0.1305   \n",
       "309    M   0.570     0.435   0.145        0.9055          0.3925   \n",
       "2510   I   0.420     0.320   0.100        0.3400          0.1745   \n",
       "1878   I   0.545     0.425   0.140        0.8145          0.3050   \n",
       "\n",
       "      Viscera weight  Shell weight  Rings  \n",
       "638           0.1080        0.1600     14  \n",
       "3880          0.0560        0.0900      7  \n",
       "309           0.2355        0.2750     10  \n",
       "2510          0.0500        0.0945      8  \n",
       "1878          0.2310        0.2440     10  "
      ]
     },
     "execution_count": 6,
     "metadata": {},
     "output_type": "execute_result"
    }
   ],
   "source": [
    "df.sample(5)"
   ]
  },
  {
   "cell_type": "code",
   "execution_count": 7,
   "id": "1eb88d72",
   "metadata": {},
   "outputs": [
    {
     "data": {
      "text/plain": [
       "Index(['Sex', 'Length', 'Diameter', 'Height', 'Whole weight', 'Shucked weight',\n",
       "       'Viscera weight', 'Shell weight', 'Rings'],\n",
       "      dtype='object')"
      ]
     },
     "execution_count": 7,
     "metadata": {},
     "output_type": "execute_result"
    }
   ],
   "source": [
    "df.columns"
   ]
  },
  {
   "cell_type": "code",
   "execution_count": 9,
   "id": "a4fa0b1c",
   "metadata": {},
   "outputs": [
    {
     "data": {
      "text/html": [
       "<div>\n",
       "<style scoped>\n",
       "    .dataframe tbody tr th:only-of-type {\n",
       "        vertical-align: middle;\n",
       "    }\n",
       "\n",
       "    .dataframe tbody tr th {\n",
       "        vertical-align: top;\n",
       "    }\n",
       "\n",
       "    .dataframe thead th {\n",
       "        text-align: right;\n",
       "    }\n",
       "</style>\n",
       "<table border=\"1\" class=\"dataframe\">\n",
       "  <thead>\n",
       "    <tr style=\"text-align: right;\">\n",
       "      <th></th>\n",
       "      <th>Length</th>\n",
       "      <th>Diameter</th>\n",
       "      <th>Height</th>\n",
       "      <th>Whole weight</th>\n",
       "      <th>Shucked weight</th>\n",
       "      <th>Viscera weight</th>\n",
       "      <th>Shell weight</th>\n",
       "      <th>Rings</th>\n",
       "    </tr>\n",
       "  </thead>\n",
       "  <tbody>\n",
       "    <tr>\n",
       "      <th>count</th>\n",
       "      <td>4177.000000</td>\n",
       "      <td>4177.000000</td>\n",
       "      <td>4177.000000</td>\n",
       "      <td>4177.000000</td>\n",
       "      <td>4177.000000</td>\n",
       "      <td>4177.000000</td>\n",
       "      <td>4177.000000</td>\n",
       "      <td>4177.000000</td>\n",
       "    </tr>\n",
       "    <tr>\n",
       "      <th>mean</th>\n",
       "      <td>0.523992</td>\n",
       "      <td>0.407881</td>\n",
       "      <td>0.139516</td>\n",
       "      <td>0.828742</td>\n",
       "      <td>0.359367</td>\n",
       "      <td>0.180594</td>\n",
       "      <td>0.238831</td>\n",
       "      <td>9.933684</td>\n",
       "    </tr>\n",
       "    <tr>\n",
       "      <th>std</th>\n",
       "      <td>0.120093</td>\n",
       "      <td>0.099240</td>\n",
       "      <td>0.041827</td>\n",
       "      <td>0.490389</td>\n",
       "      <td>0.221963</td>\n",
       "      <td>0.109614</td>\n",
       "      <td>0.139203</td>\n",
       "      <td>3.224169</td>\n",
       "    </tr>\n",
       "    <tr>\n",
       "      <th>min</th>\n",
       "      <td>0.075000</td>\n",
       "      <td>0.055000</td>\n",
       "      <td>0.000000</td>\n",
       "      <td>0.002000</td>\n",
       "      <td>0.001000</td>\n",
       "      <td>0.000500</td>\n",
       "      <td>0.001500</td>\n",
       "      <td>1.000000</td>\n",
       "    </tr>\n",
       "    <tr>\n",
       "      <th>25%</th>\n",
       "      <td>0.450000</td>\n",
       "      <td>0.350000</td>\n",
       "      <td>0.115000</td>\n",
       "      <td>0.441500</td>\n",
       "      <td>0.186000</td>\n",
       "      <td>0.093500</td>\n",
       "      <td>0.130000</td>\n",
       "      <td>8.000000</td>\n",
       "    </tr>\n",
       "    <tr>\n",
       "      <th>50%</th>\n",
       "      <td>0.545000</td>\n",
       "      <td>0.425000</td>\n",
       "      <td>0.140000</td>\n",
       "      <td>0.799500</td>\n",
       "      <td>0.336000</td>\n",
       "      <td>0.171000</td>\n",
       "      <td>0.234000</td>\n",
       "      <td>9.000000</td>\n",
       "    </tr>\n",
       "    <tr>\n",
       "      <th>75%</th>\n",
       "      <td>0.615000</td>\n",
       "      <td>0.480000</td>\n",
       "      <td>0.165000</td>\n",
       "      <td>1.153000</td>\n",
       "      <td>0.502000</td>\n",
       "      <td>0.253000</td>\n",
       "      <td>0.329000</td>\n",
       "      <td>11.000000</td>\n",
       "    </tr>\n",
       "    <tr>\n",
       "      <th>max</th>\n",
       "      <td>0.815000</td>\n",
       "      <td>0.650000</td>\n",
       "      <td>1.130000</td>\n",
       "      <td>2.825500</td>\n",
       "      <td>1.488000</td>\n",
       "      <td>0.760000</td>\n",
       "      <td>1.005000</td>\n",
       "      <td>29.000000</td>\n",
       "    </tr>\n",
       "  </tbody>\n",
       "</table>\n",
       "</div>"
      ],
      "text/plain": [
       "            Length     Diameter       Height  Whole weight  Shucked weight  \\\n",
       "count  4177.000000  4177.000000  4177.000000   4177.000000     4177.000000   \n",
       "mean      0.523992     0.407881     0.139516      0.828742        0.359367   \n",
       "std       0.120093     0.099240     0.041827      0.490389        0.221963   \n",
       "min       0.075000     0.055000     0.000000      0.002000        0.001000   \n",
       "25%       0.450000     0.350000     0.115000      0.441500        0.186000   \n",
       "50%       0.545000     0.425000     0.140000      0.799500        0.336000   \n",
       "75%       0.615000     0.480000     0.165000      1.153000        0.502000   \n",
       "max       0.815000     0.650000     1.130000      2.825500        1.488000   \n",
       "\n",
       "       Viscera weight  Shell weight        Rings  \n",
       "count     4177.000000   4177.000000  4177.000000  \n",
       "mean         0.180594      0.238831     9.933684  \n",
       "std          0.109614      0.139203     3.224169  \n",
       "min          0.000500      0.001500     1.000000  \n",
       "25%          0.093500      0.130000     8.000000  \n",
       "50%          0.171000      0.234000     9.000000  \n",
       "75%          0.253000      0.329000    11.000000  \n",
       "max          0.760000      1.005000    29.000000  "
      ]
     },
     "execution_count": 9,
     "metadata": {},
     "output_type": "execute_result"
    }
   ],
   "source": [
    "df.describe()"
   ]
  },
  {
   "cell_type": "code",
   "execution_count": 30,
   "id": "41738b01",
   "metadata": {},
   "outputs": [],
   "source": [
    "#get one hot encoding for SEX\n",
    "df = pd.get_dummies(df)\n"
   ]
  },
  {
   "cell_type": "markdown",
   "id": "cde47dbe",
   "metadata": {},
   "source": [
    "## Spiting DataSet "
   ]
  },
  {
   "cell_type": "code",
   "execution_count": 35,
   "id": "897ebb88",
   "metadata": {},
   "outputs": [],
   "source": [
    "y = df[\"Rings\"]\n",
    "X = df.drop(columns=\"Rings\")\n"
   ]
  },
  {
   "cell_type": "code",
   "execution_count": 15,
   "id": "b85207f4",
   "metadata": {},
   "outputs": [],
   "source": [
    "X_train, X_test, y_train, y_test = train_test_split(X, y, test_size=0.2)\n"
   ]
  },
  {
   "cell_type": "markdown",
   "id": "63fe3c0a",
   "metadata": {},
   "source": [
    "## Modeling"
   ]
  },
  {
   "cell_type": "markdown",
   "id": "aff8c878",
   "metadata": {},
   "source": [
    "### KNN "
   ]
  },
  {
   "cell_type": "code",
   "execution_count": 16,
   "id": "d559295b",
   "metadata": {},
   "outputs": [
    {
     "data": {
      "text/plain": [
       "21.650717703349283"
      ]
     },
     "execution_count": 16,
     "metadata": {},
     "output_type": "execute_result"
    }
   ],
   "source": [
    "\n",
    "knn = KNeighborsClassifier(n_neighbors=3)\n",
    "#Training the model.\n",
    "knn.fit(X_train, y_train)\n",
    "#Predict test data set.\n",
    "y_pred = knn.predict(X_test)\n",
    "#Checking performance \n",
    "accuracy = metrics.accuracy_score(y_test, y_pred)\n",
    "accuracy_percentage = 100 * accuracy\n",
    "accuracy_percentage\n",
    "\n"
   ]
  },
  {
   "cell_type": "code",
   "execution_count": null,
   "id": "d2b61b9c",
   "metadata": {},
   "outputs": [],
   "source": [
    "\n",
    "\n",
    "\n",
    "\n",
    "\n",
    "\n",
    "\n",
    "\n",
    "\n",
    "\n",
    "\n",
    "\n",
    "\n",
    "\n",
    "\n",
    "\n"
   ]
  },
  {
   "cell_type": "markdown",
   "id": "0d3a8c67",
   "metadata": {},
   "source": [
    "\n",
    "\n",
    "\n",
    "\n",
    "\n",
    "\n",
    "\n",
    "\n",
    "\n",
    "\n",
    "\n",
    "### Linear Regression"
   ]
  },
  {
   "cell_type": "code",
   "execution_count": 31,
   "id": "49c05aa6",
   "metadata": {},
   "outputs": [
    {
     "data": {
      "text/plain": [
       "array([ 9.578125 , 14.5234375, 10.75     ,  5.296875 ,  8.296875 ,\n",
       "       10.90625  , 11.3125   , 13.9765625, 13.609375 , 13.2421875,\n",
       "        7.5546875,  9.2421875, 14.0703125, 10.40625  , 10.3828125,\n",
       "       11.8359375,  5.0625   , 12.484375 ,  9.1875   , 11.2421875,\n",
       "       14.2890625, 13.1953125, 14.265625 ,  8.4921875,  7.5390625,\n",
       "       13.6875   ,  6.921875 ,  9.6953125, 12.390625 ,  9.671875 ,\n",
       "       12.0390625,  8.359375 ,  7.6875   ,  8.5546875,  9.0234375,\n",
       "       13.046875 ,  6.       , 10.921875 ,  9.84375  ,  9.484375 ,\n",
       "       10.359375 , 13.0234375,  5.421875 ,  6.234375 ,  6.5703125,\n",
       "       14.4453125,  9.984375 , 10.21875  ,  8.4765625,  9.234375 ,\n",
       "        8.859375 ,  7.8125   , 10.0078125, 10.7890625,  8.671875 ,\n",
       "       11.640625 , 10.3125   ,  9.2734375,  9.796875 , 14.875    ,\n",
       "       11.0234375,  5.9375   ,  8.1484375, 11.90625  , 13.75     ,\n",
       "       10.859375 , 12.4140625, 13.0703125, 11.171875 , 16.0390625,\n",
       "       13.109375 ,  5.421875 , 11.640625 ,  7.7578125,  7.15625  ,\n",
       "        9.1640625,  4.84375  , 11.71875  , 11.75     , 12.7734375,\n",
       "        7.921875 ,  7.0078125,  9.7109375,  9.2421875, 12.828125 ,\n",
       "       11.2421875, 10.8046875, 13.484375 , 16.0859375, 12.5234375,\n",
       "        9.21875  ,  8.296875 ,  8.2421875, 11.15625  , 10.5703125,\n",
       "       12.0078125, 10.046875 ,  7.6875   ,  8.1171875, 10.7421875,\n",
       "       13.3203125,  7.0625   ,  9.171875 ,  9.2890625,  7.7109375,\n",
       "        7.3125   ,  6.9921875,  7.609375 ,  8.3984375,  7.6875   ,\n",
       "       11.6171875, 14.15625  ,  9.6953125, 11.21875  , 10.7578125,\n",
       "        9.0234375,  8.390625 ,  8.6171875, 12.203125 , 11.2578125,\n",
       "        7.3125   ,  7.171875 ,  8.9140625, 11.140625 , 11.6171875,\n",
       "        8.7890625,  6.328125 , 10.9453125, 11.7109375, 11.4140625,\n",
       "        5.8125   , 16.21875  ,  5.2734375,  8.328125 , 15.3671875,\n",
       "        8.78125  ,  7.078125 ,  9.2734375, 10.5078125, 11.734375 ,\n",
       "        8.6484375,  7.7890625, 11.7734375, 13.671875 ,  8.40625  ,\n",
       "        9.796875 ,  7.2421875,  8.09375  , 12.25     ,  9.359375 ,\n",
       "       10.8984375, 15.4921875,  9.9453125,  9.578125 , 11.4609375,\n",
       "        7.25     ,  8.8671875,  9.5390625, 11.8125   ,  7.1484375,\n",
       "       12.59375  , 11.375    , 12.4765625,  7.6015625,  6.203125 ,\n",
       "       10.0390625,  7.484375 , 12.8203125,  7.9140625, 11.9296875,\n",
       "        8.75     , 12.046875 ,  8.140625 , 10.375    , 13.7109375,\n",
       "        6.96875  ,  9.484375 , 11.8828125, 10.234375 ,  7.640625 ,\n",
       "        6.21875  , 11.109375 ,  8.1640625, 13.078125 ,  6.90625  ,\n",
       "       15.1640625, 14.9921875, 10.3828125,  7.3203125,  6.6171875,\n",
       "        7.8359375,  7.1328125, 10.8046875,  9.734375 ,  7.5859375,\n",
       "        8.7890625,  9.140625 ,  9.4921875, 11.328125 , 10.2890625,\n",
       "       10.53125  , 10.1015625,  8.4765625,  6.9765625,  5.2421875,\n",
       "        7.328125 , 10.8046875, 10.7890625,  6.5703125,  9.       ,\n",
       "        7.5703125, 10.1015625, 11.4296875,  9.5078125,  6.03125  ,\n",
       "        7.2421875, 11.5390625, 11.515625 , 10.6796875,  7.5703125,\n",
       "        8.9921875,  7.2109375,  9.9375   ,  8.2109375,  7.3828125,\n",
       "        7.21875  ,  7.5      ,  8.359375 , 10.7890625,  8.453125 ,\n",
       "       12.65625  ,  8.4453125,  7.5390625,  8.5      ,  8.15625  ,\n",
       "       11.4921875,  8.1875   , 11.1015625,  9.9921875, 11.453125 ,\n",
       "       12.1875   ,  8.578125 , 12.0703125, 10.1796875,  9.296875 ,\n",
       "       10.5234375,  7.3046875,  9.0390625,  7.640625 ,  9.734375 ,\n",
       "       12.28125  ,  7.640625 , 13.4453125, 11.8671875,  8.890625 ,\n",
       "       10.3671875,  4.875    , 17.40625  ,  9.6875   ,  8.3125   ,\n",
       "       11.6015625,  9.3046875,  6.1796875,  8.359375 ,  9.40625  ,\n",
       "        6.90625  ,  7.5859375, 10.9375   ,  8.6796875,  9.5859375,\n",
       "        5.8046875,  7.6640625,  8.0859375,  9.203125 ,  9.203125 ,\n",
       "       13.8125   , 11.0859375,  9.1875   , 11.875    ,  9.5234375,\n",
       "       10.953125 ,  9.8125   , 10.6640625,  8.4140625,  9.0625   ,\n",
       "        7.5390625, 12.28125  , 10.40625  , 10.6953125,  9.3125   ,\n",
       "       10.2578125, 13.0234375,  6.8984375,  9.140625 ,  9.6015625,\n",
       "       12.296875 , 12.109375 ,  7.046875 ,  9.234375 ,  7.65625  ,\n",
       "       13.828125 ,  7.2578125,  7.703125 ,  9.4453125,  8.8125   ,\n",
       "       10.5234375, 11.46875  , 10.9609375,  9.6015625,  8.4375   ,\n",
       "        9.5      , 12.890625 , 12.421875 , 11.15625  , 13.6171875,\n",
       "       11.2421875,  9.4296875, 12.5234375, 12.46875  ,  9.078125 ,\n",
       "        6.1328125,  9.6171875,  9.6015625,  9.5625   ,  6.171875 ,\n",
       "       13.3203125, 11.328125 ,  8.5390625, 12.234375 ,  9.4765625,\n",
       "       10.9375   , 10.59375  , 15.7421875, 11.078125 ,  8.3671875,\n",
       "       13.390625 ,  7.2109375,  8.90625  ,  9.2265625, 12.8828125,\n",
       "        7.515625 , 10.09375  , 10.6484375, 15.7265625,  6.90625  ,\n",
       "       13.2578125,  9.109375 , 12.1796875,  9.9296875, 10.6953125,\n",
       "        9.3984375,  7.9453125, 10.7265625, 11.6875   ,  8.9609375,\n",
       "        9.453125 , 10.5703125, 11.6640625,  8.8046875, 11.8046875,\n",
       "       12.5      , 13.765625 , 11.2734375,  9.5625   , 11.1640625,\n",
       "       12.171875 ,  5.859375 , 11.8125   , 11.1875   , 12.453125 ,\n",
       "       13.265625 ,  9.859375 , 11.234375 , 10.0625   , 12.8515625,\n",
       "        9.8359375,  5.9453125,  9.3125   ,  9.0390625,  9.0078125,\n",
       "       14.8984375, 13.671875 ,  9.0625   , 15.6015625, 11.9140625,\n",
       "        7.9140625, 11.6875   , 11.390625 ,  9.0859375, 12.3125   ,\n",
       "       16.5546875,  9.0859375,  8.4140625,  9.09375  , 12.734375 ,\n",
       "       11.0546875,  4.9921875,  6.9375   , 10.0859375,  9.9453125,\n",
       "        9.1875   ,  9.1796875,  5.5390625,  8.90625  ,  6.8125   ,\n",
       "       12.40625  ,  6.75     ,  7.15625  , 11.3359375, 11.4375   ,\n",
       "       10.7109375,  9.1484375,  8.65625  ,  9.9609375, 20.1484375,\n",
       "       10.2890625,  8.984375 ,  8.1875   ,  7.640625 , 10.0078125,\n",
       "       -1.9140625, 11.9609375,  8.671875 ,  7.34375  , 12.1484375,\n",
       "       10.2421875,  7.2421875, 12.2265625,  7.6328125,  7.9296875,\n",
       "       13.0625   , 11.84375  ,  9.5703125,  8.859375 ,  7.40625  ,\n",
       "       10.8671875,  8.890625 ,  8.1875   ,  7.171875 ,  8.7734375,\n",
       "        8.6875   , 15.21875  , 11.3828125,  9.21875  ,  7.3671875,\n",
       "        8.8984375,  9.1953125,  7.3984375,  9.8046875, 14.1875   ,\n",
       "       10.6640625, 14.3828125, 10.046875 , 11.203125 , 15.3046875,\n",
       "       10.2421875, 11.5390625, 11.9453125, 10.234375 , 12.2734375,\n",
       "       12.703125 , 11.2421875,  8.8984375,  9.515625 ,  8.9140625,\n",
       "       11.28125  , 13.203125 , 10.9453125,  7.296875 ,  9.9296875,\n",
       "       11.046875 , 10.0390625, 10.328125 ,  8.9140625, 10.796875 ,\n",
       "       11.4765625, 11.5859375,  8.953125 ,  6.7734375, 13.8203125,\n",
       "       10.7265625, 11.9296875,  7.9453125,  8.7421875, 12.390625 ,\n",
       "       10.7421875, 12.7265625, 10.4453125, 11.34375  ,  9.796875 ,\n",
       "       12.8046875, 12.6953125, 10.9375   ,  9.71875  ,  9.4140625,\n",
       "       14.7578125, 10.4765625,  8.390625 ,  9.609375 , 10.2890625,\n",
       "        6.734375 ,  9.875    , 13.484375 ,  9.609375 ,  7.1953125,\n",
       "        8.3359375, 11.40625  ,  7.3984375, 10.0859375, 12.421875 ,\n",
       "        9.359375 , 10.2578125,  7.59375  ,  5.296875 , 10.0625   ,\n",
       "        8.453125 , 14.234375 ,  6.875    ,  9.6015625, 10.65625  ,\n",
       "       10.4453125, 10.3125   ,  9.8984375,  4.984375 ,  8.9375   ,\n",
       "       12.8671875,  8.8359375,  7.421875 , 10.5390625, 10.6875   ,\n",
       "       12.3359375,  8.8046875,  9.28125  , 10.3515625, 11.5234375,\n",
       "        6.984375 ,  8.890625 ,  6.8203125, 10.6875   , 11.2734375,\n",
       "        9.515625 , 12.125    , 11.3984375,  7.828125 , 10.625    ,\n",
       "        9.671875 ,  7.09375  , 11.109375 , 10.8515625, 10.1171875,\n",
       "        9.8671875, 10.4140625, 13.9609375,  9.8046875, 13.2265625,\n",
       "        9.65625  ,  7.4921875, 12.234375 ,  5.2421875,  9.65625  ,\n",
       "       10.859375 ,  7.9609375,  7.4921875,  5.40625  ,  6.9609375,\n",
       "        8.671875 , 10.984375 ,  8.9140625,  8.8125   ,  9.984375 ,\n",
       "       11.375    , 10.9921875,  7.3984375,  9.7578125,  8.828125 ,\n",
       "       13.8125   , 12.4609375,  8.5859375,  8.046875 , 19.921875 ,\n",
       "       15.5625   ,  9.5625   , 12.0703125, 10.3984375,  5.796875 ,\n",
       "       12.1796875, 11.734375 ,  9.5859375,  9.25     ,  7.3828125,\n",
       "       12.8671875, 10.296875 ,  8.234375 ,  5.8671875,  7.9921875,\n",
       "       10.546875 , 12.1796875,  7.578125 ,  7.0859375, 12.625    ,\n",
       "       10.46875  , 10.4453125,  8.984375 , 14.1484375,  6.5      ,\n",
       "       10.015625 , 11.1484375,  9.1875   ,  6.7890625,  8.6015625,\n",
       "       11.3125   ,  8.0859375,  9.1953125, 10.515625 , 11.609375 ,\n",
       "        9.1875   , 11.296875 ,  7.5546875, 12.7421875,  9.578125 ,\n",
       "        9.578125 ,  6.953125 ,  4.6015625,  8.       , 10.453125 ,\n",
       "       10.546875 ,  8.296875 , 12.390625 , 15.2578125,  8.5703125,\n",
       "       17.1640625, 11.1015625,  6.15625  ,  9.796875 , 12.296875 ,\n",
       "        9.6640625,  9.703125 , 12.0859375, 10.203125 , 11.515625 ,\n",
       "       11.171875 ,  6.1796875,  6.96875  , 12.03125  ,  9.8203125,\n",
       "       10.2421875,  9.359375 , 10.8125   ,  9.6796875, 10.4453125,\n",
       "       10.2265625,  8.734375 , 12.1640625,  9.859375 ,  5.90625  ,\n",
       "        6.84375  , 11.59375  , 10.5      , 11.3984375, 10.8046875,\n",
       "       10.546875 ,  9.6015625, 10.265625 ,  7.953125 ,  6.84375  ,\n",
       "       11.953125 ,  8.4765625,  8.9375   ,  8.046875 ,  8.6328125,\n",
       "       10.171875 , 10.390625 ,  8.875    ,  8.640625 , 10.21875  ,\n",
       "        9.2265625,  7.65625  , 11.75     ,  9.7265625,  8.640625 ,\n",
       "       12.28125  , 11.484375 , 13.09375  , 10.3828125,  7.609375 ,\n",
       "       12.953125 , 10.7109375, 10.734375 , 10.9296875,  7.6796875,\n",
       "        9.8359375, 13.8125   ,  9.       ,  9.296875 ,  8.1875   ,\n",
       "       11.09375  ,  9.375    , 11.2734375,  9.375    ,  9.8359375,\n",
       "        8.2265625,  8.8046875, 15.234375 , 16.5625   , 12.3125   ,\n",
       "        8.2734375, 12.3515625, 12.734375 ,  6.6640625, 15.109375 ,\n",
       "        8.1171875, 11.9921875,  7.828125 ,  2.265625 ,  7.2578125,\n",
       "        7.2890625,  8.7109375,  6.203125 ,  9.9921875, 10.953125 ,\n",
       "        9.734375 ,  6.09375  , 10.3984375, 10.1640625, 10.546875 ,\n",
       "        6.5859375,  7.4921875, 12.40625  ,  8.       , 10.75     ,\n",
       "       16.84375  ,  9.25     , 10.6171875, 11.5703125,  7.4765625,\n",
       "        9.4140625, 20.1484375,  7.375    ,  8.6640625, 10.9609375,\n",
       "        9.0234375, 10.796875 , 10.4453125, 10.703125 ,  7.6875   ,\n",
       "        7.640625 ,  9.25     , 10.109375 ,  6.1484375,  8.421875 ,\n",
       "        9.0546875, 10.2578125,  9.4765625, 11.2578125,  6.5078125,\n",
       "        9.9609375, 12.796875 ,  9.5546875, 10.7421875, 10.7890625,\n",
       "        8.4921875, 12.4609375,  6.6171875,  6.1953125,  7.3203125,\n",
       "        5.6796875,  8.3046875, 12.1171875,  8.9765625,  6.703125 ,\n",
       "       14.0625   ,  8.265625 , 12.328125 , 10.96875  ,  7.15625  ,\n",
       "        5.8984375,  9.1171875, 13.4765625,  9.71875  ,  6.8046875,\n",
       "        7.859375 , 11.078125 ,  8.9453125, 10.0390625, 14.9921875,\n",
       "        6.8125   , 15.2734375, 11.3671875,  8.0546875,  6.7578125,\n",
       "        8.828125 , 15.265625 ,  7.8125   ,  7.828125 , 13.859375 ,\n",
       "        8.4375   ,  9.1328125,  8.7734375, 10.5703125,  6.109375 ,\n",
       "       11.484375 ,  8.1328125, 12.2265625,  9.7109375, 10.7265625,\n",
       "       12.484375 , 10.3671875, 12.9296875, 10.953125 ,  7.953125 ,\n",
       "        9.359375 ,  6.5390625,  7.9609375,  9.7890625,  7.9375   ,\n",
       "        6.671875 , 14.2265625,  8.3125   ,  8.2578125,  5.828125 ,\n",
       "       13.4296875,  9.515625 , 12.6953125, 14.3125   ,  9.453125 ,\n",
       "        9.6796875, 11.2578125,  7.890625 ,  9.2265625, 11.3125   ,\n",
       "       12.6171875,  3.9140625,  8.9921875,  8.203125 ,  8.15625  ,\n",
       "        6.6796875])"
      ]
     },
     "execution_count": 31,
     "metadata": {},
     "output_type": "execute_result"
    }
   ],
   "source": [
    "from sklearn.linear_model import LinearRegression\n",
    "model = LinearRegression()\n",
    "model.fit(X_train,y_train)\n",
    "y_Pred = model.predict(X_test)\n",
    "y_Pred"
   ]
  },
  {
   "cell_type": "code",
   "execution_count": 34,
   "id": "5bb9055e",
   "metadata": {},
   "outputs": [
    {
     "data": {
      "text/plain": [
       "0.5350404295535545"
      ]
     },
     "execution_count": 34,
     "metadata": {},
     "output_type": "execute_result"
    }
   ],
   "source": [
    "model.score(X_train,y_train)\n"
   ]
  },
  {
   "cell_type": "code",
   "execution_count": 23,
   "id": "51a01e90",
   "metadata": {},
   "outputs": [
    {
     "data": {
      "text/plain": [
       "0.5413911090404817"
      ]
     },
     "execution_count": 23,
     "metadata": {},
     "output_type": "execute_result"
    }
   ],
   "source": [
    "model.score(X_test,y_test)\n"
   ]
  },
  {
   "cell_type": "code",
   "execution_count": 29,
   "id": "b6147d6a",
   "metadata": {},
   "outputs": [
    {
     "ename": "NameError",
     "evalue": "name 'plt' is not defined",
     "output_type": "error",
     "traceback": [
      "\u001b[1;31m---------------------------------------------------------------------------\u001b[0m",
      "\u001b[1;31mNameError\u001b[0m                                 Traceback (most recent call last)",
      "Input \u001b[1;32mIn [29]\u001b[0m, in \u001b[0;36m<cell line: 4>\u001b[1;34m()\u001b[0m\n\u001b[0;32m      2\u001b[0m sns\u001b[38;5;241m.\u001b[39mkdeplot(y_test,label\u001b[38;5;241m=\u001b[39m\u001b[38;5;124m'\u001b[39m\u001b[38;5;124mrings actual\u001b[39m\u001b[38;5;124m'\u001b[39m)\n\u001b[0;32m      3\u001b[0m sns\u001b[38;5;241m.\u001b[39mkdeplot(y_pred,label\u001b[38;5;241m=\u001b[39m\u001b[38;5;124m'\u001b[39m\u001b[38;5;124mrings predicted\u001b[39m\u001b[38;5;124m'\u001b[39m)\n\u001b[1;32m----> 4\u001b[0m \u001b[43mplt\u001b[49m\u001b[38;5;241m.\u001b[39mlegend()\n",
      "\u001b[1;31mNameError\u001b[0m: name 'plt' is not defined"
     ]
    },
    {
     "data": {
      "image/png": "[encoded data removed]",
      "text/plain": [
       "<Figure size 432x288 with 1 Axes>"
      ]
     },
     "metadata": {
      "needs_background": "light"
     },
     "output_type": "display_data"
    }
   ],
   "source": [
    "import seaborn as sns\n",
    "sns.kdeplot(y_test,label='rings actual')\n",
    "sns.kdeplot(y_pred,label='rings predicted')\n",
    "plt.legend()"
   ]
  },
  {
   "cell_type": "code",
   "execution_count": null,
   "id": "2848d73b",
   "metadata": {},
   "outputs": [],
   "source": []
  }
 ],
 "metadata": {
  "kernelspec": {
   "display_name": "Python 3 (ipykernel)",
   "language": "python",
   "name": "python3"
  },
  "language_info": {
   "codemirror_mode": {
    "name": "ipython",
    "version": 3
   },
   "file_extension": ".py",
   "mimetype": "text/x-python",
   "name": "python",
   "nbconvert_exporter": "python",
   "pygments_lexer": "ipython3",
   "version": "3.9.12"
  }
 },
 "nbformat": 4,
 "nbformat_minor": 5
}
